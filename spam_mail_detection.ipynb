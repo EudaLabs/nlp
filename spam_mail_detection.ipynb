{
  "nbformat": 4,
  "nbformat_minor": 0,
  "metadata": {
    "colab": {
      "provenance": [],
      "authorship_tag": "ABX9TyO1pyPkkzg9SprpA88kynn9",
      "include_colab_link": true
    },
    "kernelspec": {
      "name": "python3",
      "display_name": "Python 3"
    },
    "language_info": {
      "name": "python"
    }
  },
  "cells": [
    {
      "cell_type": "markdown",
      "metadata": {
        "id": "view-in-github",
        "colab_type": "text"
      },
      "source": [
        "<a href=\"https://colab.research.google.com/github/efeecllk/nlp/blob/main/spam_mail_detection.ipynb\" target=\"_parent\"><img src=\"https://colab.research.google.com/assets/colab-badge.svg\" alt=\"Open In Colab\"/></a>"
      ]
    },
    {
      "cell_type": "code",
      "source": [
        "import pandas as pd\n",
        "import numpy as np\n",
        "from sklearn.feature_extraction.text import TfidfVectorizer\n",
        "from sklearn.model_selection import train_test_split\n",
        "from sklearn.linear_model import LogisticRegression\n",
        "from sklearn.metrics import accuracy_score, classification_report, confusion_matrix"
      ],
      "metadata": {
        "id": "ROXnb3V0afL2"
      },
      "execution_count": 9,
      "outputs": []
    },
    {
      "cell_type": "code",
      "source": [
        "# 1. Preparing the Dataset\n",
        "# Creating a simple dataset manually for spam detection\n",
        "print(\"Creating a simple dataset...\")\n",
        "data = {\n",
        "    'label': ['spam', 'ham', 'ham', 'spam', 'ham', 'spam', 'ham', 'spam'],\n",
        "    'message': [\n",
        "        \"Congratulations! You've won a free ticket to the Bahamas!\",\n",
        "        \"Hey, are we still meeting for coffee tomorrow?\",\n",
        "        \"Don't forget to send me the documents.\",\n",
        "        \"You have been selected for a $500 cash prize!\",\n",
        "        \"Let's catch up over dinner this weekend.\",\n",
        "        \"Claim your free coupon now by clicking this link!\",\n",
        "        \"I'll call you later today.\",\n",
        "        \"Win a brand new car by entering this contest!\"\n",
        "    ]\n",
        "}\n",
        "df = pd.DataFrame(data)\n",
        "print(\"Dataset successfully created.\")"
      ],
      "metadata": {
        "colab": {
          "base_uri": "https://localhost:8080/"
        },
        "id": "PuvZDaNqWDXr",
        "outputId": "bdcd933f-be03-4a41-c18e-f5ccd88d9258"
      },
      "execution_count": 10,
      "outputs": [
        {
          "output_type": "stream",
          "name": "stdout",
          "text": [
            "Creating a simple dataset...\n",
            "Dataset successfully created.\n"
          ]
        }
      ]
    },
    {
      "cell_type": "code",
      "source": [
        "# Rename the columns to 'label' and 'message'\n",
        "df.columns = [\"label\", \"message\"]\n",
        "print(\"Columns renamed to 'label' and 'message'.\")\n"
      ],
      "metadata": {
        "colab": {
          "base_uri": "https://localhost:8080/"
        },
        "id": "vK7UaSn2bacP",
        "outputId": "0d149c2b-3ce4-489c-81c0-607df80bee38"
      },
      "execution_count": 11,
      "outputs": [
        {
          "output_type": "stream",
          "name": "stdout",
          "text": [
            "Columns renamed to 'label' and 'message'.\n"
          ]
        }
      ]
    },
    {
      "cell_type": "code",
      "source": [
        "# 2. Data Preprocessing\n",
        "# Convert 'ham' and 'spam' labels to numerical values (0 and 1)\n",
        "df['label'] = df['label'].map({'ham': 0, 'spam': 1})\n",
        "print(\"Labels converted to numerical values (0 for 'ham', 1 for 'spam').\")\n"
      ],
      "metadata": {
        "colab": {
          "base_uri": "https://localhost:8080/"
        },
        "id": "bXqktP94bcpI",
        "outputId": "cab32bb4-358b-4a23-e566-1141eb123cd0"
      },
      "execution_count": 12,
      "outputs": [
        {
          "output_type": "stream",
          "name": "stdout",
          "text": [
            "Labels converted to numerical values (0 for 'ham', 1 for 'spam').\n"
          ]
        }
      ]
    },
    {
      "cell_type": "code",
      "source": [
        "# 3. Feature Extraction\n",
        "# Convert messages to numerical data using TF-IDF Vectorizer\n",
        "# 'stop_words' parameter removes English stopwords, 'max_df' ignores terms that occur too frequently\n",
        "print(\"Initializing TF-IDF Vectorizer...\")\n",
        "tfidf = TfidfVectorizer(stop_words='english', max_df=0.7)\n",
        "X = tfidf.fit_transform(df['message'])  # Create feature matrix from messages\n",
        "y = df['label']  # Define target variable\n",
        "print(\"Feature matrix created using TF-IDF Vectorizer.\")\n"
      ],
      "metadata": {
        "colab": {
          "base_uri": "https://localhost:8080/"
        },
        "id": "KVWP046fbfIR",
        "outputId": "837540e1-843c-43ef-f829-15962ef37c37"
      },
      "execution_count": 13,
      "outputs": [
        {
          "output_type": "stream",
          "name": "stdout",
          "text": [
            "Initializing TF-IDF Vectorizer...\n",
            "Feature matrix created using TF-IDF Vectorizer.\n"
          ]
        }
      ]
    },
    {
      "cell_type": "code",
      "source": [
        "\n",
        "# 4. Splitting Training and Test Data\n",
        "# Split the dataset into training and testing sets (80% training, 20% testing)\n",
        "print(\"Splitting data into training and testing sets...\")\n",
        "X_train, X_test, y_train, y_test = train_test_split(X, y, test_size=0.2, random_state=42)\n",
        "print(f\"Training set size: {X_train.shape[0]} samples, Test set size: {X_test.shape[0]} samples.\")\n"
      ],
      "metadata": {
        "colab": {
          "base_uri": "https://localhost:8080/"
        },
        "id": "m9J6Fhi4bhxS",
        "outputId": "9e8106dc-b7fd-49dd-ba9d-ff9a99257828"
      },
      "execution_count": 14,
      "outputs": [
        {
          "output_type": "stream",
          "name": "stdout",
          "text": [
            "Splitting data into training and testing sets...\n",
            "Training set size: 6 samples, Test set size: 2 samples.\n"
          ]
        }
      ]
    },
    {
      "cell_type": "code",
      "source": [
        "# 5. Training the Model\n",
        "# Create the Logistic Regression model and train it on the training data\n",
        "print(\"Training Logistic Regression model...\")\n",
        "model = LogisticRegression()\n",
        "model.fit(X_train, y_train)\n",
        "print(\"Model training completed.\")\n"
      ],
      "metadata": {
        "colab": {
          "base_uri": "https://localhost:8080/"
        },
        "id": "3-xe27BOblDc",
        "outputId": "f35f6c21-e697-4c6c-93b4-b1c4039da83f"
      },
      "execution_count": 15,
      "outputs": [
        {
          "output_type": "stream",
          "name": "stdout",
          "text": [
            "Training Logistic Regression model...\n",
            "Model training completed.\n"
          ]
        }
      ]
    },
    {
      "cell_type": "code",
      "source": [
        "# 6. Evaluating the Model\n",
        "# Evaluate the model by making predictions on the test data\n",
        "print(\"Evaluating the model...\")\n",
        "y_pred = model.predict(X_test)  # Make predictions on the test set\n",
        "accuracy = accuracy_score(y_test, y_pred)  # Calculate the accuracy\n",
        "print(f\"Accuracy: {accuracy * 100:.2f}%\")  # Print the accuracy\n"
      ],
      "metadata": {
        "colab": {
          "base_uri": "https://localhost:8080/"
        },
        "id": "UP3p_tn3bnoQ",
        "outputId": "7ff73d5f-b670-4257-9988-3fdfa7083ef9"
      },
      "execution_count": 16,
      "outputs": [
        {
          "output_type": "stream",
          "name": "stdout",
          "text": [
            "Evaluating the model...\n",
            "Accuracy: 100.00%\n"
          ]
        }
      ]
    },
    {
      "cell_type": "code",
      "source": [
        "# Print the classification report and confusion matrix\n",
        "print(\"\\nClassification Report:\\n\", classification_report(y_test, y_pred))\n",
        "print(\"\\nConfusion Matrix:\\n\", confusion_matrix(y_test, y_pred))\n"
      ],
      "metadata": {
        "colab": {
          "base_uri": "https://localhost:8080/"
        },
        "id": "E4w0DGe7buVu",
        "outputId": "fab3a293-0b93-459d-ce37-4d9e4475bc79"
      },
      "execution_count": 17,
      "outputs": [
        {
          "output_type": "stream",
          "name": "stdout",
          "text": [
            "\n",
            "Classification Report:\n",
            "               precision    recall  f1-score   support\n",
            "\n",
            "           0       1.00      1.00      1.00         1\n",
            "           1       1.00      1.00      1.00         1\n",
            "\n",
            "    accuracy                           1.00         2\n",
            "   macro avg       1.00      1.00      1.00         2\n",
            "weighted avg       1.00      1.00      1.00         2\n",
            "\n",
            "\n",
            "Confusion Matrix:\n",
            " [[1 0]\n",
            " [0 1]]\n"
          ]
        }
      ]
    },
    {
      "cell_type": "code",
      "source": [
        "# 7. Testing New Messages\n",
        "# Create a function to predict whether a new message is spam or not\n",
        "def predict_message(msg):\n",
        "    print(f\"Predicting for new message: '{msg}'\")\n",
        "    vec_msg = tfidf.transform([msg])  # Vectorize the message using TF-IDF\n",
        "    prediction = model.predict(vec_msg)[0]  # Make prediction using the model\n",
        "    print(f\"Prediction completed. Result: {'Spam' if prediction == 1 else 'Ham'}\")\n",
        "    return \"Spam\" if prediction == 1 else \"Ham\"  # Return 'Spam' or 'Ham' based on the prediction\n"
      ],
      "metadata": {
        "id": "96XcGHrJbxsS"
      },
      "execution_count": 18,
      "outputs": []
    },
    {
      "cell_type": "code",
      "source": [
        "# Example Test\n",
        "new_message = \"Congratulations! You've won a $1,000 Walmart gift card. Go to http://bit.ly/123xyz to claim now.\"\n",
        "print(f\"Message: '{new_message}' -> Prediction: {predict_message(new_message)}\")  # Test the new message"
      ],
      "metadata": {
        "colab": {
          "base_uri": "https://localhost:8080/"
        },
        "id": "ggKKgWhjbzkW",
        "outputId": "16c8746e-c385-48d0-ec8d-04f4fe900d59"
      },
      "execution_count": 19,
      "outputs": [
        {
          "output_type": "stream",
          "name": "stdout",
          "text": [
            "Predicting for new message: 'Congratulations! You've won a $1,000 Walmart gift card. Go to http://bit.ly/123xyz to claim now.'\n",
            "Prediction completed. Result: Spam\n",
            "Message: 'Congratulations! You've won a $1,000 Walmart gift card. Go to http://bit.ly/123xyz to claim now.' -> Prediction: Spam\n"
          ]
        }
      ]
    }
  ]
}