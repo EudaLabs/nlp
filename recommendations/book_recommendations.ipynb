{
  "cells": [
    {
      "cell_type": "markdown",
      "metadata": {
        "colab_type": "text",
        "id": "view-in-github"
      },
      "source": [
        "<a href=\"https://colab.research.google.com/github/efeecllk/nlp/blob/main/book_recommendations.ipynb\" target=\"_parent\"><img src=\"https://colab.research.google.com/assets/colab-badge.svg\" alt=\"Open In Colab\"/></a>"
      ]
    },
    {
      "cell_type": "code",
      "execution_count": 1,
      "metadata": {
        "id": "BEGR5RxIbFC0"
      },
      "outputs": [],
      "source": [
        "import pandas as pd\n",
        "import matplotlib.pyplot as plt\n",
        "from sklearn.feature_extraction.text import TfidfVectorizer\n",
        "from sklearn.metrics.pairwise import cosine_similarity\n",
        "import seaborn as sns\n"
      ]
    },
    {
      "cell_type": "code",
      "execution_count": 3,
      "metadata": {
        "colab": {
          "base_uri": "https://localhost:8080/"
        },
        "id": "JZyLxeDGazYB",
        "outputId": "6b458dda-a865-492d-802c-70aa0cbb7590"
      },
      "outputs": [
        {
          "name": "stdout",
          "output_type": "stream",
          "text": [
            "--2024-12-23 01:50:13--  https://raw.githubusercontent.com/zygmuntz/goodbooks-10k/master/books.csv\n",
            "Resolving raw.githubusercontent.com (raw.githubusercontent.com)... 185.199.109.133, 185.199.111.133, 185.199.108.133, ...\n",
            "Connecting to raw.githubusercontent.com (raw.githubusercontent.com)|185.199.109.133|:443... connected.\n",
            "HTTP request sent, awaiting response... 200 OK\n",
            "Length: 3286659 (3,1M) [text/plain]\n",
            "Saving to: ‘books.csv.2’\n",
            "\n",
            "books.csv.2         100%[===================>]   3,13M   467KB/s    in 6,4s    \n",
            "\n",
            "2024-12-23 01:50:20 (498 KB/s) - ‘books.csv.2’ saved [3286659/3286659]\n",
            "\n",
            "   book_id  goodreads_book_id  best_book_id  work_id  books_count       isbn  \\\n",
            "0        1            2767052       2767052  2792775          272  439023483   \n",
            "1        2                  3             3  4640799          491  439554934   \n",
            "2        3              41865         41865  3212258          226  316015849   \n",
            "3        4               2657          2657  3275794          487   61120081   \n",
            "4        5               4671          4671   245494         1356  743273567   \n",
            "\n",
            "         isbn13                      authors  original_publication_year  \\\n",
            "0  9.780439e+12              Suzanne Collins                     2008.0   \n",
            "1  9.780440e+12  J.K. Rowling, Mary GrandPré                     1997.0   \n",
            "2  9.780316e+12              Stephenie Meyer                     2005.0   \n",
            "3  9.780061e+12                   Harper Lee                     1960.0   \n",
            "4  9.780743e+12          F. Scott Fitzgerald                     1925.0   \n",
            "\n",
            "                             original_title  ... ratings_count  \\\n",
            "0                          The Hunger Games  ...       4780653   \n",
            "1  Harry Potter and the Philosopher's Stone  ...       4602479   \n",
            "2                                  Twilight  ...       3866839   \n",
            "3                     To Kill a Mockingbird  ...       3198671   \n",
            "4                          The Great Gatsby  ...       2683664   \n",
            "\n",
            "  work_ratings_count  work_text_reviews_count  ratings_1  ratings_2  \\\n",
            "0            4942365                   155254      66715     127936   \n",
            "1            4800065                    75867      75504     101676   \n",
            "2            3916824                    95009     456191     436802   \n",
            "3            3340896                    72586      60427     117415   \n",
            "4            2773745                    51992      86236     197621   \n",
            "\n",
            "   ratings_3  ratings_4  ratings_5  \\\n",
            "0     560092    1481305    2706317   \n",
            "1     455024    1156318    3011543   \n",
            "2     793319     875073    1355439   \n",
            "3     446835    1001952    1714267   \n",
            "4     606158     936012     947718   \n",
            "\n",
            "                                           image_url  \\\n",
            "0  https://images.gr-assets.com/books/1447303603m...   \n",
            "1  https://images.gr-assets.com/books/1474154022m...   \n",
            "2  https://images.gr-assets.com/books/1361039443m...   \n",
            "3  https://images.gr-assets.com/books/1361975680m...   \n",
            "4  https://images.gr-assets.com/books/1490528560m...   \n",
            "\n",
            "                                     small_image_url  \n",
            "0  https://images.gr-assets.com/books/1447303603s...  \n",
            "1  https://images.gr-assets.com/books/1474154022s...  \n",
            "2  https://images.gr-assets.com/books/1361039443s...  \n",
            "3  https://images.gr-assets.com/books/1361975680s...  \n",
            "4  https://images.gr-assets.com/books/1490528560s...  \n",
            "\n",
            "[5 rows x 23 columns]\n"
          ]
        }
      ],
      "source": [
        "# Download the dataset\n",
        "!wget https://raw.githubusercontent.com/zygmuntz/goodbooks-10k/master/books.csv\n",
        "\n",
        "# Load the dataset into a pandas DataFrame\n",
        "df = pd.read_csv('books.csv')\n",
        "\n",
        "# Display the first 5 rows of the dataset\n",
        "print(df.head())\n"
      ]
    },
    {
      "cell_type": "code",
      "execution_count": 5,
      "metadata": {
        "colab": {
          "base_uri": "https://localhost:8080/"
        },
        "id": "xZuuIQuOcH9V",
        "outputId": "d3ac0e44-e579-44b3-f65d-9c8a72bc62f5"
      },
      "outputs": [
        {
          "name": "stdout",
          "output_type": "stream",
          "text": [
            "Index(['book_id', 'goodreads_book_id', 'best_book_id', 'work_id',\n",
            "       'books_count', 'isbn', 'isbn13', 'authors', 'original_publication_year',\n",
            "       'original_title', 'title', 'language_code', 'average_rating',\n",
            "       'ratings_count', 'work_ratings_count', 'work_text_reviews_count',\n",
            "       'ratings_1', 'ratings_2', 'ratings_3', 'ratings_4', 'ratings_5',\n",
            "       'image_url', 'small_image_url'],\n",
            "      dtype='object')\n"
          ]
        }
      ],
      "source": [
        "print(df.columns)"
      ]
    },
    {
      "cell_type": "code",
      "execution_count": 3,
      "metadata": {
        "colab": {
          "base_uri": "https://localhost:8080/",
          "height": 487
        },
        "id": "zHRba0pnbdo-",
        "outputId": "4a62c8c9-b084-4e90-bf94-f207e69d98a4"
      },
      "outputs": [
        {
          "data": {
            "image/png": "[encoded data removed]",
            "text/plain": [
              "<Figure size 1000x500 with 1 Axes>"
            ]
          },
          "metadata": {},
          "output_type": "display_data"
        }
      ],
      "source": [
        "# Plot the distribution of average ratings\n",
        "plt.figure(figsize=(10, 5))\n",
        "sns.histplot(df['average_rating'], bins=30, kde=True)\n",
        "plt.title('Distribution of Average Ratings')\n",
        "plt.xlabel('Average Rating')\n",
        "plt.ylabel('Number of Books')\n",
        "plt.show()\n"
      ]
    },
    {
      "cell_type": "code",
      "execution_count": 6,
      "metadata": {
        "colab": {
          "base_uri": "https://localhost:8080/"
        },
        "id": "kV3Ef6HRbsev",
        "outputId": "8e7f4f65-208a-427f-ff4c-df56e3704cd0"
      },
      "outputs": [
        {
          "name": "stdout",
          "output_type": "stream",
          "text": [
            "                                               title  \\\n",
            "0            The Hunger Games (The Hunger Games, #1)   \n",
            "1  Harry Potter and the Sorcerer's Stone (Harry P...   \n",
            "2                            Twilight (Twilight, #1)   \n",
            "3                              To Kill a Mockingbird   \n",
            "4                                   The Great Gatsby   \n",
            "\n",
            "                                             content  \n",
            "0  The Hunger Games (The Hunger Games, #1) Suzann...  \n",
            "1  Harry Potter and the Sorcerer's Stone (Harry P...  \n",
            "2            Twilight (Twilight, #1) Stephenie Meyer  \n",
            "3                   To Kill a Mockingbird Harper Lee  \n",
            "4               The Great Gatsby F. Scott Fitzgerald  \n"
          ]
        }
      ],
      "source": [
        "# Combine title, authors, and description into a single text field\n",
        "df['content'] = df['title'] + ' ' + df['authors']\n",
        "\n",
        "# Display a few rows to verify\n",
        "print(df[['title', 'content']].head())\n"
      ]
    },
    {
      "cell_type": "code",
      "execution_count": 7,
      "metadata": {
        "colab": {
          "base_uri": "https://localhost:8080/"
        },
        "id": "zmkW2F0-cXRz",
        "outputId": "f90419a2-4881-4721-c9d5-6c07b1135361"
      },
      "outputs": [
        {
          "name": "stdout",
          "output_type": "stream",
          "text": [
            "TF-IDF matrix shape: (10000, 2000)\n"
          ]
        }
      ],
      "source": [
        "# Initialize the TfidfVectorizer\n",
        "tfidf = TfidfVectorizer(stop_words='english', max_features=2000)\n",
        "\n",
        "# Transform the content field into a TF-IDF matrix\n",
        "X = tfidf.fit_transform(df['content'])\n",
        "\n",
        "# Display the shape of the TF-IDF matrix\n",
        "print(f\"TF-IDF matrix shape: {X.shape}\")\n"
      ]
    },
    {
      "cell_type": "code",
      "execution_count": 8,
      "metadata": {
        "id": "VJCJlRpFcmu4"
      },
      "outputs": [],
      "source": [
        "def recommend_book(title, df=df, X=X):\n",
        "    # Find the index of the given book title\n",
        "    idx = df[df['title'].str.contains(title, case=False)].index[0]\n",
        "\n",
        "    # Get the TF-IDF vector for the query book\n",
        "    query = X[idx]\n",
        "\n",
        "    # Calculate cosine similarity between the query book and all other books\n",
        "    scores = cosine_similarity(query, X).flatten()\n",
        "\n",
        "    # Get the indices of the top 5 most similar books (excluding the query book)\n",
        "    recommended_idx = (-scores).argsort()[1:6]\n",
        "\n",
        "    # Return the titles of the recommended books\n",
        "    return df['title'].iloc[recommended_idx]\n"
      ]
    },
    {
      "cell_type": "code",
      "execution_count": 9,
      "metadata": {
        "colab": {
          "base_uri": "https://localhost:8080/"
        },
        "id": "sEiY6mYic7Et",
        "outputId": "207b627e-6677-47f0-f5dc-a520ab53eef1"
      },
      "outputs": [
        {
          "name": "stdout",
          "output_type": "stream",
          "text": [
            "Recommended books for 'The Hobbit':\n",
            "2308                                The Children of Húrin\n",
            "4975         Unfinished Tales of Númenor and Middle-Earth\n",
            "610              The Silmarillion (Middle-Earth Universe)\n",
            "963     J.R.R. Tolkien 4-Book Boxed Set: The Hobbit an...\n",
            "154            The Two Towers (The Lord of the Rings, #2)\n",
            "Name: title, dtype: object\n"
          ]
        }
      ],
      "source": [
        "# Get recommendations for 'The Hobbit'\n",
        "recommendations = recommend_book('The Hobbit')\n",
        "print(f\"Recommended books for 'The Hobbit':\")\n",
        "print(recommendations)\n"
      ]
    }
  ],
  "metadata": {
    "colab": {
      "authorship_tag": "ABX9TyPcZgJOrGt/ZzgM3jLjaVAQ",
      "include_colab_link": true,
      "provenance": []
    },
    "kernelspec": {
      "display_name": "Python 3",
      "name": "python3"
    },
    "language_info": {
      "codemirror_mode": {
        "name": "ipython",
        "version": 3
      },
      "file_extension": ".py",
      "mimetype": "text/x-python",
      "name": "python",
      "nbconvert_exporter": "python",
      "pygments_lexer": "ipython3",
      "version": "3.12.3"
    }
  },
  "nbformat": 4,
  "nbformat_minor": 0
}
